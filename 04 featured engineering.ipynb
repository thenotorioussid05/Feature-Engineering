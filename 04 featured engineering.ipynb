{
 "cells": [
  {
   "cell_type": "code",
   "execution_count": 1,
   "id": "6f6fa9ea-dbdc-4f64-85df-7c6482dc070d",
   "metadata": {},
   "outputs": [],
   "source": [
    "##Q1"
   ]
  },
  {
   "cell_type": "code",
   "execution_count": 2,
   "id": "09409e24-bad5-42ea-818e-ba488bca39f6",
   "metadata": {},
   "outputs": [],
   "source": [
    "\n",
    "\n",
    "##Ordinal encoding and label encoding are both techniques used to convert categorical variables into numerical representations, but they differ in how they assign these numerical values.\n",
    "\n",
    "##Ordinal encoding assigns a unique integer value to each category in a categorical variable based on its order or rank. For example, if we have a variable called \"education level\" with categories \"high school,\" \"college,\" and \"graduate school,\" we might assign the values 1, 2, and 3 respectively, based on the order of the categories.\n",
    "\n",
    "##Label encoding, on the other hand, assigns a unique integer value to each category in a categorical variable without considering any order or rank. For example, if we have a variable called \"color\" with categories \"red,\" \"green,\" and \"blue,\" we might assign the values 1, 2, and 3 respectively, without considering any inherent order to the categories.\n",
    "\n",
    "##In general, ordinal encoding is used when there is an inherent order or ranking to the categories, such as in the example of \"education level.\" Label encoding, on the other hand, is used when there is no inherent order to the categories, such as in the example of \"color.\"\n",
    "\n",
    "##An example of when we might choose one over the other is when working with data that has an ordinal categorical variable, such as \"education level.\" In this case, we would want to use ordinal encoding to preserve the order of the categories. On the other hand, if we were working with a categorical variable such as \"color,\" we would want to use label encoding because there is no inherent order to the categories.\n"
   ]
  },
  {
   "cell_type": "code",
   "execution_count": 3,
   "id": "53845991-aa87-439f-983e-fe399e6105b6",
   "metadata": {},
   "outputs": [],
   "source": [
    "##q2"
   ]
  },
  {
   "cell_type": "code",
   "execution_count": 4,
   "id": "1be4cc33-0863-4137-b6be-cd4b5edd3e1b",
   "metadata": {},
   "outputs": [],
   "source": [
    "###Target Guided Ordinal Encoding is a technique used to encode categorical variables based on the target variable in a supervised machine learning problem. This technique is particularly useful when there is a strong relationship between the target variable and the categorical variable. The steps involved in Target Guided Ordinal Encoding are:\n",
    "\n",
    "  ##  Group the categories of the categorical variable by their target mean.\n",
    "    ##Order the categories in ascending or descending order based on their target mean.\n",
    "    ##Assign a numerical value to each category based on the ordered sequence.\n",
    "\n",
    "##For example, let's say we have a categorical variable called \"occupation\" with the following categories: \"doctor,\" \"lawyer,\" \"engineer,\" \"teacher,\" \"salesperson,\" and \"clerk.\" We want to predict whether a person earns more than $50,000 per year, which is our target variable.\n",
    "\n",
    "##We can group the categories of \"occupation\" by their mean target value (i.e., the proportion of people who earn more than $50,000 per year for each category) as follows:\n",
    "\n",
    "  ##  Doctor: 0.8\n",
    "   ## Lawyer: 0.7\n",
    "   # Engineer: 0.6\n",
    " ##   Teacher: 0.4\n",
    "   ## Salesperson: 0.3\n",
    "   ## Clerk: 0.2\n",
    "\n",
    "##Next, we can order the categories in descending order based on their mean target value:\n",
    "\n",
    "  ##  Doctor: 1\n",
    "   ## Lawyer: 2  \n",
    "   ## Teacher: 4\n",
    "   ## Salesperson: 5\n",
    "   ## Clerk: 6\n",
    "\n",
    "##Finally, we can assign these numerical values to each category in the original dataset. This will convert the categorical variable into an ordinal variable that preserves the relationship between the categories and the target variable.\n",
    "\n",
    "##Target Guided Ordinal Encoding can be useful when there is a strong relationship between the target variable and the categorical variable, as it can help capture this relationship in the encoded variable. This can improve the predictive power of a machine learning model by providing a more informative input variable.###"
   ]
  },
  {
   "cell_type": "code",
   "execution_count": 5,
   "id": "9fc70a5b-3a0b-498e-89d8-bf157579ceea",
   "metadata": {},
   "outputs": [],
   "source": [
    "##Q3"
   ]
  },
  {
   "cell_type": "code",
   "execution_count": 8,
   "id": "6d1f9465-94e4-4ff2-bee2-c6e34dda612e",
   "metadata": {},
   "outputs": [],
   "source": [
    "##Covariance is a statistical measure that describes the relationship between two random variables. Specifically, it measures how much two variables vary together, meaning how much the values of one variable change when the values of the other variable change. A positive covariance indicates that the two variables tend to increase or decrease together, while a negative covariance indicates that they tend to vary in opposite directions. A covariance of zero indicates that there is no linear relationship between the two variables.\n",
    "\n",
    "##Covariance is important in statistical analysis because it provides a way to measure the strength and direction of the relationship between two variables. This relationship can be used to better understand the underlying data and can help in modeling and prediction. For example, in finance, the covariance between two stocks can be used to construct a diversified portfolio that minimizes risk. In machine learning, covariance is used in dimensionality reduction techniques such as principal component analysis (PCA) to find the most important features or variables.\n",
    "\n",
    "##The formula for calculating the covariance between two variables X and Y is: cov(X, Y) = E[(X - μX) * (Y - μY)]\n",
    "##Where E[] represents the expected value or mean, μX and μY are the means of X and Y, and * represents multiplication.\n",
    "\n",
    "##In practice, the covariance is often estimated from a sample of data using the following formula: cov(X, Y) = Σ[(xi - μX) * (yi - μY)] / (n - 1)\n",
    "\n",
    "##Where Σ represents the sum, xi and yi are the individual observations of X and Y, μX and μY are the sample means of X and Y, and n is the sample size.\n",
    "\n",
    "##It is important to note that the magnitude of the covariance depends on the units of measurement of the two variables. Therefore, it is common to normalize the covariance by dividing it by the product of the standard deviations of X and Y. This normalized version is called the correlation coefficient, which ranges from -1 to 1 and is unitless.\n",
    "\n"
   ]
  },
  {
   "cell_type": "code",
   "execution_count": 9,
   "id": "232df148-bd01-4bcc-b789-48818e791357",
   "metadata": {},
   "outputs": [],
   "source": [
    "###Q4"
   ]
  },
  {
   "cell_type": "code",
   "execution_count": 11,
   "id": "005f6efc-b26c-4148-ae73-5f49b11fe1a9",
   "metadata": {},
   "outputs": [
    {
     "name": "stdout",
     "output_type": "stream",
     "text": [
      "   Color    Size Material  Color_Encoded  Size_Encoded  Material_Encoded\n",
      "0    red   small     wood              2             2                 2\n",
      "1  green  medium    metal              1             1                 0\n",
      "2   blue   large  plastic              0             0                 1\n",
      "3   blue   small     wood              0             2                 2\n",
      "4  green  medium  plastic              1             1                 1\n",
      "5    red  medium    metal              2             1                 0\n"
     ]
    }
   ],
   "source": [
    "\n",
    "\n",
    "##Here is an example code using Python's scikit-learn library to perform label encoding on a dataset with categorical variables Color, Size, and Material:\n",
    "\n",
    "from sklearn.preprocessing import LabelEncoder\n",
    "import pandas as pd\n",
    "\n",
    "# create sample data\n",
    "data = {'Color': ['red', 'green', 'blue', 'blue', 'green', 'red'],\n",
    "        'Size': ['small', 'medium', 'large', 'small', 'medium', 'medium'],\n",
    "        'Material': ['wood', 'metal', 'plastic', 'wood', 'plastic', 'metal']}\n",
    "df = pd.DataFrame(data)\n",
    "\n",
    "# create a label encoder object\n",
    "le = LabelEncoder()\n",
    "\n",
    "# encode categorical variables\n",
    "df['Color_Encoded'] = le.fit_transform(df['Color'])\n",
    "df['Size_Encoded'] = le.fit_transform(df['Size'])\n",
    "df['Material_Encoded'] = le.fit_transform(df['Material'])\n",
    "\n",
    "# print the encoded dataset\n",
    "print(df)\n",
    "\n",
    "\n",
    "\n",
    "##In this example, we create a sample dataset with three categorical variables: Color, Size, and Material. We then create a label encoder object using scikit-learn's LabelEncoder class, and use it to encode each of the categorical variables into numeric values.\n",
    "\n",
    "##The fit_transform method is used to fit the label encoder to the data and transform the categorical variable into encoded numeric values. We do this separately for each categorical variable, and create new columns in the original dataset to store the encoded values.\n",
    "\n",
    "##The output shows the original dataset with the three categorical variables, followed by the encoded values for each variable. The encoded values are represented by integers, with each unique category being assigned a unique integer. The encoding is arbitrary and does not imply any ordering or magnitude of the categories.\n"
   ]
  },
  {
   "cell_type": "code",
   "execution_count": 12,
   "id": "8c2b4ce5-ab4a-42f8-a746-576dae1f7c1e",
   "metadata": {},
   "outputs": [],
   "source": [
    "##Q5"
   ]
  },
  {
   "cell_type": "code",
   "execution_count": 14,
   "id": "08e82d51-ad2a-4e2e-b543-667122cf5fcb",
   "metadata": {},
   "outputs": [
    {
     "name": "stdout",
     "output_type": "stream",
     "text": [
      "[[6.25e+01 1.25e+05 3.00e+01]\n",
      " [1.25e+05 2.50e+08 6.00e+04]\n",
      " [3.00e+01 6.00e+04 1.48e+01]]\n"
     ]
    }
   ],
   "source": [
    "\n",
    "\n",
    "##To calculate the covariance matrix for a dataset with variables Age, Income, and Education level, we need to compute the covariance between each pair of variables. The covariance matrix is a square matrix that contains the covariances between all possible pairs of variables.\n",
    "\n",
    "##Assuming we have a sample dataset with these three variables, we can use Python's NumPy library to calculate the covariance matrix as follows:\n",
    "\n",
    "import numpy as np\n",
    "import pandas as pd\n",
    "\n",
    "# create a sample dataset with Age, Income, and Education level\n",
    "data = {'Age': [25, 30, 35, 40, 45],\n",
    "        'Income': [50000, 60000, 70000, 80000, 90000],\n",
    "        'Education': [12, 16, 18, 20, 22]}\n",
    "df = pd.DataFrame(data)\n",
    "\n",
    "# calculate the covariance matrix using NumPy\n",
    "cov_matrix = np.cov(df.T)\n",
    "\n",
    "# print the covariance matrix\n",
    "print(cov_matrix)\n",
    "\n",
    "\n",
    "##In this covariance matrix, the diagonal elements represent the variances of each variable (Age, Income, and Education level), while the off-diagonal elements represent the covariances between pairs of variables. For example, the covariance between Age and Income is 25000, which means that as Age increases, Income tends to increase as well.\n",
    "\n",
    "##The interpretation of the results depends on the context of the dataset and the research question at hand. In general, a positive covariance between two variables indicates that they tend to move together in the same direction, while a negative covariance indicates that they tend to move in opposite directions. A covariance of zero indicates that the variables are uncorrelated.\n",
    "\n",
    "##It's important to note that covariance is affected by the scale of the variables. Therefore, it's often useful to standardize the variables before calculating the covariance matrix, or to use the correlation matrix instead, which scales the covariances by the product of the standard deviations of the variables.\n",
    "\n"
   ]
  },
  {
   "cell_type": "code",
   "execution_count": 15,
   "id": "0b33ad3d-1645-4b44-ac38-cb9536781db0",
   "metadata": {},
   "outputs": [],
   "source": [
    "##Q6"
   ]
  },
  {
   "cell_type": "code",
   "execution_count": 16,
   "id": "ae9b156d-9601-474c-8166-4368e22acff3",
   "metadata": {},
   "outputs": [],
   "source": [
    "\n",
    "\n",
    "##For the \"Gender\" variable, I would use binary encoding or label encoding, since there are only two categories (Male and Female). Binary encoding would create a new column with binary values (0 and 1) to represent the two categories, while label encoding would replace the categories with numerical values (e.g. 0 for Male and 1 for Female).\n",
    "\n",
    "##For the \"Education Level\" variable, I would use ordinal encoding, since there is an inherent order to the categories (High School < Bachelor's < Master's < PhD). Ordinal encoding assigns numerical values to the categories based on their order, such as 0 for High School, 1 for Bachelor's, 2 for Master's, and 3 for PhD.\n",
    "\n",
    "##For the \"Employment Status\" variable, I would use one-hot encoding, since there is no inherent order to the categories (Unemployed, Part-Time, Full-Time) and each category is equally important. One-hot encoding creates a new column for each category and assigns a binary value (0 or 1) to indicate whether the category is present or not. For example, the \"Unemployed\" column would have a value of 1 for rows where the person is unemployed and a value of 0 for rows where the person is employed.\n",
    "\n",
    "##It's important to choose the appropriate encoding method for each variable to ensure that the encoded features accurately represent the underlying data and can be effectively used by machine learning algorithms.\n"
   ]
  },
  {
   "cell_type": "code",
   "execution_count": 17,
   "id": "bd55f558-e766-4ce9-baba-93d81f14d80e",
   "metadata": {},
   "outputs": [],
   "source": [
    "##Q7"
   ]
  },
  {
   "cell_type": "code",
   "execution_count": 18,
   "id": "91762865-ad74-4b59-b8ca-c394f36d62a0",
   "metadata": {},
   "outputs": [
    {
     "name": "stdout",
     "output_type": "stream",
     "text": [
      "[[62.5 62.5]\n",
      " [62.5 62.5]]\n"
     ]
    }
   ],
   "source": [
    "\n",
    "\n",
    "##To calculate the covariance between each pair of variables, we need to first calculate the mean values of the variables, and then use the covariance formula: cov(X,Y) = E[(X - E[X])(Y - E[Y])] Where E[X] and E[Y] are the mean values of X and Y, respectively.\n",
    "\n",
    "##Assuming we have a sample dataset with these variables, we can use Python's NumPy library to calculate the covariance matrix as follows:\n",
    "\n",
    "import numpy as np\n",
    "import pandas as pd\n",
    "\n",
    "# create a sample dataset with Temperature, Humidity, Weather Condition, and Wind Direction\n",
    "data = {'Temperature': [20, 25, 30, 35, 40],\n",
    "        'Humidity': [50, 55, 60, 65, 70],\n",
    "        'Weather Condition': ['Sunny', 'Sunny', 'Cloudy', 'Rainy', 'Rainy'],\n",
    "        'Wind Direction': ['North', 'South', 'East', 'West', 'North']}\n",
    "df = pd.DataFrame(data)\n",
    "\n",
    "# calculate the covariance matrix using NumPy\n",
    "cov_matrix = np.cov(df[['Temperature', 'Humidity']].T)\n",
    "\n",
    "# print the covariance matrix\n",
    "print(cov_matrix)\n",
    "\n"
   ]
  },
  {
   "cell_type": "code",
   "execution_count": 19,
   "id": "d6459f77-8f0d-4974-a3a7-0b40e5335ad3",
   "metadata": {},
   "outputs": [],
   "source": [
    "##Or, you can use the following formula, given below, as well:\n",
    "##cov(X,Y) = Σ[(x - μx)(y - μy)] / (n-1)\n",
    "##where Σ denotes the sum of the values, x and y are the individual values of each variable, μx and μy are the means of each variable, and n is the number of observations.\n",
    "\n",
    "##Assuming we have a sample dataset with n observations, we can calculate the covariance between \"Temperature\" and \"Humidity\" as follows:\n",
    "\n",
    "  ##  Calculate the means:\n",
    "   ## μTemperature = ΣTemperature / n\n",
    "   ## μHumidity = ΣHumidity / n\n",
    "    ##Calculate the deviations from the mean for each observation:\n",
    "    ##devTemperature = Temperature - μTemperature\n",
    "    ##devHumidity = Humidity - μHumidity\n",
    "    ##Calculate the covariance:\n",
    "    ##cov(Temperature, Humidity) = Σ(devTemperature * devHumidity) / (n-1)\n",
    "\n",
    "##We can use the same approach to calculate the covariance between each pair of variables. However, note that the interpretation of covariance depends on the scale and units of the variables.\n",
    "\n",
    "##For example, a positive covariance between \"Temperature\" and \"Humidity\" would indicate that higher temperatures are associated with higher humidity levels, and vice versa. A negative covariance would indicate that higher temperatures are associated with lower humidity levels, and vice versa.\n",
    "\n",
    "##Similarly, a positive covariance between \"Temperature\" and \"Weather Condition\" would indicate that certain weather conditions are associated with higher temperatures, and a negative covariance would indicate the opposite. The interpretation of the covari"
   ]
  },
  {
   "cell_type": "code",
   "execution_count": null,
   "id": "e384fd8f-31d0-4646-a16c-e199fef0828b",
   "metadata": {},
   "outputs": [],
   "source": []
  }
 ],
 "metadata": {
  "kernelspec": {
   "display_name": "Python 3 (ipykernel)",
   "language": "python",
   "name": "python3"
  },
  "language_info": {
   "codemirror_mode": {
    "name": "ipython",
    "version": 3
   },
   "file_extension": ".py",
   "mimetype": "text/x-python",
   "name": "python",
   "nbconvert_exporter": "python",
   "pygments_lexer": "ipython3",
   "version": "3.10.8"
  }
 },
 "nbformat": 4,
 "nbformat_minor": 5
}
